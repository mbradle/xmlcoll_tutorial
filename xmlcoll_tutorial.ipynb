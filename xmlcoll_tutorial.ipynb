{
 "cells": [
  {
   "cell_type": "markdown",
   "metadata": {},
   "source": [
    "# xmlcoll tutorial\n",
    "The goal of this notebook is to demonstrate the use of the [xmlcoll](https://xmlcoll.readthedocs.io) package.  xmlcoll stores collections of items.  Data about each of the items are stored in a dictionary from which the data can be retrieved or updated.  The xmlcoll API permits the user to update collections from XML, validate XML against an XML [schema](https://www.w3schools.com/xml/xml_schema.asp), and write data to a new XML file."
   ]
  },
  {
   "cell_type": "markdown",
   "metadata": {},
   "source": [
    "Begin by installing and importing the necessary python libraries"
   ]
  },
  {
   "cell_type": "code",
   "execution_count": 1,
   "metadata": {},
   "outputs": [],
   "source": [
    "import sys, io, requests, html\n",
    "\n",
    "!{sys.executable} -m pip install --quiet xmlcoll\n",
    "\n",
    "import xmlcoll.coll as xc"
   ]
  },
  {
   "cell_type": "markdown",
   "metadata": {},
   "source": [
    "Create a collection.  In this tutorial, it will be a catalog of famous paintings, but initially it is empty."
   ]
  },
  {
   "cell_type": "code",
   "execution_count": 2,
   "metadata": {},
   "outputs": [],
   "source": [
    "my_collection = xc.Collection()"
   ]
  },
  {
   "cell_type": "markdown",
   "metadata": {},
   "source": [
    "First we will import data.  We do this by updating our empty collection with data from an XML file.  For this tutorial, we will use a data file from [OSF](https://osf.io/k5c9m)."
   ]
  },
  {
   "cell_type": "code",
   "execution_count": 3,
   "metadata": {},
   "outputs": [],
   "source": [
    "my_collection.update_from_xml(io.BytesIO(requests.get('https://osf.io/k5c9m/download').content))"
   ]
  },
  {
   "cell_type": "markdown",
   "metadata": {},
   "source": [
    "The collection can have properties.  Let's begin by retrieving and printing those properties.  The properties are available through the properties dictionary, which can be retrieved by the *get_properties()* method and has the data in *key*, *value* pairs.  The value can be any kind of python variable that can be cast to a string (since it must be able to be rendered into XML). The key can be an individual string or [tuple](https://www.w3schools.com/python/python_tuples.asp) of strings with up to six elements. The first element of the tuple will be considered to be the property name while the remaining elements will be considered to be tags."
   ]
  },
  {
   "cell_type": "code",
   "execution_count": 4,
   "metadata": {},
   "outputs": [
    {
     "name": "stdout",
     "output_type": "stream",
     "text": [
      "Title : Famous Paintings\n",
      "Original Collator : Brad Meyer\n"
     ]
    }
   ],
   "source": [
    "for property in my_collection.get_properties():\n",
    "    print(property, ':', my_collection.get_properties()[property])"
   ]
  },
  {
   "cell_type": "markdown",
   "metadata": {},
   "source": [
    "We can list the paintings in the collection by retrieving a dictionary of the items with the *get()* method.  The painting names are the *keys* of the dictionary, so printing out the keys gives the names of the items (in our case paintings) in our collection.  In printing out the names, we *unescape* any html entities in the painting names."
   ]
  },
  {
   "cell_type": "code",
   "execution_count": 5,
   "metadata": {},
   "outputs": [
    {
     "name": "stdout",
     "output_type": "stream",
     "text": [
      "Mona Lisa\n",
      "The Starry Night\n",
      "Girl with a Pearl Earring\n",
      "The Kiss\n",
      "The Night Watch\n",
      "The Birth of Venus\n",
      "American Gothic\n",
      "Guernica\n",
      "A Sunday Afternoon on the Island of La Grande Jatte\n",
      "Whistler's Mother\n",
      "Bal du moulin de la Galette\n",
      "La Meninas\n",
      "Liberty Leading the People\n",
      "The Last Supper\n",
      "Arnolfini Portrait\n",
      "Café Terrace at Night\n",
      "The Persistence of Memory\n",
      "Impression, Sunrise\n",
      "Le Déjeuner sur l'herbe\n",
      "The Creation\n",
      "Les Demoiselles d'Avignon\n",
      "Nighthawks\n",
      "The Great Wave off Kanagawa\n",
      "The Storm on the Sea of Galilee\n",
      "The Sleeping Gypsy\n",
      "A Bar at the Folies-Bergère\n",
      "Portrait of Adele Bloch-Bauer I\n",
      "The Swing\n",
      "Lady with an Ermine\n",
      "The Garden of Early Delights\n"
     ]
    }
   ],
   "source": [
    "for painting in my_collection.get():\n",
    "    print(html.unescape(painting))"
   ]
  },
  {
   "cell_type": "markdown",
   "metadata": {},
   "source": [
    "Every item in the collection has a dictionary of properties that can be retrieved by the *get_properties()* method for that item.  Here we select a painting and print its properties."
   ]
  },
  {
   "cell_type": "code",
   "execution_count": 6,
   "metadata": {},
   "outputs": [
    {
     "name": "stdout",
     "output_type": "stream",
     "text": [
      "date : 1897\n",
      "('artist', 'name', 'first') : Henri\n",
      "('artist', 'name', 'last') : Rousseau\n",
      "('artist', 'nationality') : French\n"
     ]
    }
   ],
   "source": [
    "painting = my_collection.get()['The Sleeping Gypsy']\n",
    "properties = painting.get_properties()\n",
    "\n",
    "for prop in properties:\n",
    "    print(prop, ':', properties[prop])"
   ]
  },
  {
   "cell_type": "markdown",
   "metadata": {},
   "source": [
    "We can add properties to the painting by adding *key*, *value* pairs to the properties dictionary.  The item properties dictionary has the same restrictions on *key* and *value* pairs as does the collection properties dictionary, namely, that the keys are stings or tuples of strings and the values are any variable that can be cast to a string."
   ]
  },
  {
   "cell_type": "code",
   "execution_count": 7,
   "metadata": {},
   "outputs": [],
   "source": [
    "properties['medium'] = 'watercolor'\n",
    "properties['some number'] = 5\n",
    "properties[('my_name', 'my_tag1', 'my_tag2', 'my_tag3', 'my_tag4', 'my_tag5')] = 'my new property'"
   ]
  },
  {
   "cell_type": "markdown",
   "metadata": {},
   "source": [
    "Check that the properties have been added by printing the properties again."
   ]
  },
  {
   "cell_type": "code",
   "execution_count": 8,
   "metadata": {},
   "outputs": [
    {
     "name": "stdout",
     "output_type": "stream",
     "text": [
      "date : 1897\n",
      "('artist', 'name', 'first') : Henri\n",
      "('artist', 'name', 'last') : Rousseau\n",
      "('artist', 'nationality') : French\n",
      "medium : watercolor\n",
      "some number : 5\n",
      "('my_name', 'my_tag1', 'my_tag2', 'my_tag3', 'my_tag4', 'my_tag5') : my new property\n"
     ]
    }
   ],
   "source": [
    "for prop in properties:\n",
    "    print(prop, ':', properties[prop])"
   ]
  },
  {
   "cell_type": "markdown",
   "metadata": {},
   "source": [
    "We can change the property by updating the dictionary.  Here, we realized we made a mistake and can update the *medium* property:"
   ]
  },
  {
   "cell_type": "code",
   "execution_count": 9,
   "metadata": {},
   "outputs": [
    {
     "name": "stdout",
     "output_type": "stream",
     "text": [
      "date : 1897\n",
      "('artist', 'name', 'first') : Henri\n",
      "('artist', 'name', 'last') : Rousseau\n",
      "('artist', 'nationality') : French\n",
      "medium : oil\n",
      "some number : 5\n",
      "('my_name', 'my_tag1', 'my_tag2', 'my_tag3', 'my_tag4', 'my_tag5') : my new property\n"
     ]
    }
   ],
   "source": [
    "properties['medium'] = 'oil'\n",
    "\n",
    "for prop in properties:\n",
    "    print(prop, ':', properties[prop])"
   ]
  },
  {
   "cell_type": "markdown",
   "metadata": {},
   "source": [
    "Let's now add a painting.  To do so, we create an item (a painting in our case) and then add properties.  Notice the use of [html entities](https://www.w3schools.com/charsets/ref_html_entities_e.asp) to render the acute e in the artist's name."
   ]
  },
  {
   "cell_type": "code",
   "execution_count": 10,
   "metadata": {},
   "outputs": [],
   "source": [
    "painting = xc.Item('The Raft of the Medusa')\n",
    "\n",
    "props = {}\n",
    "props['date'] = '1819'\n",
    "props[('artist', 'name', 'first')] = 'Th&eacute;odore'\n",
    "props[('artist', 'name', 'last')] = 'G&eacute;ricault'\n",
    "props[('artist', 'nationality')] = 'French'\n",
    "painting.update_properties(props)"
   ]
  },
  {
   "cell_type": "markdown",
   "metadata": {},
   "source": [
    "We now add the painting."
   ]
  },
  {
   "cell_type": "code",
   "execution_count": 11,
   "metadata": {},
   "outputs": [],
   "source": [
    "my_collection.add_item(painting)"
   ]
  },
  {
   "cell_type": "markdown",
   "metadata": {},
   "source": [
    "Check that the painting has been added by printing out the new collection.  We will also print out the name of each artist."
   ]
  },
  {
   "cell_type": "code",
   "execution_count": 12,
   "metadata": {},
   "outputs": [
    {
     "name": "stdout",
     "output_type": "stream",
     "text": [
      "Mona Lisa by Leonardo da Vinci\n",
      "The Starry Night by Vincent van Gogh\n",
      "Girl with a Pearl Earring by Johannes Vermeer\n",
      "The Kiss by Gustav Klimt\n",
      "The Night Watch by Rembrandt van Rijn\n",
      "The Birth of Venus by Sandro Botticelli\n",
      "American Gothic by Grant Wood\n",
      "Guernica by Pablo Picasso\n",
      "A Sunday Afternoon on the Island of La Grande Jatte by Georges Seurat\n",
      "Whistler's Mother by James Whistler\n",
      "Bal du moulin de la Galette by Pierre-Auguste Renoir\n",
      "La Meninas by Diego Velázquez\n",
      "Liberty Leading the People by Eugène Delacroix\n",
      "The Last Supper by Leonardo da Vinci\n",
      "Arnolfini Portrait by Jan van Eyck\n",
      "Café Terrace at Night by Vincent van Gogh\n",
      "The Persistence of Memory by Salvador Dali\n",
      "Impression, Sunrise by Claude Monet\n",
      "Le Déjeuner sur l'herbe by Édouard Manet\n",
      "The Creation by Michelangelo Buonarotti\n",
      "Les Demoiselles d'Avignon by Pablo Picasso\n",
      "Nighthawks by Edward Hopper\n",
      "The Great Wave off Kanagawa by Katsushika Hokusai\n",
      "The Storm on the Sea of Galilee by Rembrandt van Rijn\n",
      "The Sleeping Gypsy by Henri Rousseau\n",
      "A Bar at the Folies-Bergère by Édouard Manet\n",
      "Portrait of Adele Bloch-Bauer I by Gustave Klimt\n",
      "The Swing by Jean-Honoré Fragonard\n",
      "Lady with an Ermine by Leonardo da Vinci\n",
      "The Garden of Early Delights by Hieronymus Bosch\n",
      "The Raft of the Medusa by Théodore Géricault\n"
     ]
    }
   ],
   "source": [
    "for painting in my_collection.get():\n",
    "    props = my_collection.get()[painting].get_properties()\n",
    "    first_name = html.unescape(props[('artist', 'name', 'first')])\n",
    "    last_name = html.unescape(props[('artist', 'name', 'last')])\n",
    "    print(html.unescape(painting), 'by', first_name, last_name)"
   ]
  },
  {
   "cell_type": "markdown",
   "metadata": {},
   "source": [
    "We see that the collection is updated with the new painting.  We can now output the collection to a new XML file with the *write_to_xml()* method."
   ]
  },
  {
   "cell_type": "code",
   "execution_count": 13,
   "metadata": {},
   "outputs": [],
   "source": [
    "file = 'my_famous_paintings.xml'\n",
    "my_collection.write_to_xml(file)"
   ]
  },
  {
   "cell_type": "markdown",
   "metadata": {},
   "source": [
    "We will now create a new collection and import the data from the new XML file.  Before updating the collection, however, we will validate the XML against the xmlcoll [schema](https://osf.io/t26k4/).  Doing so ensures that the XML is appropriate input for *xmlcoll*.  If there is no error, the *validate()* method will simply return."
   ]
  },
  {
   "cell_type": "code",
   "execution_count": 14,
   "metadata": {},
   "outputs": [],
   "source": [
    "new_collection = xc.Collection()\n",
    "new_collection.validate(file)"
   ]
  },
  {
   "cell_type": "markdown",
   "metadata": {},
   "source": [
    "Let us now update the data in the new collection but use [XPath](https://www.w3schools.com/xml/xpath_intro.asp) to select only paintings by French artists."
   ]
  },
  {
   "cell_type": "code",
   "execution_count": 15,
   "metadata": {},
   "outputs": [],
   "source": [
    "new_collection.update_from_xml(file, xpath = \"[.//property[@name = 'artist' and @tag1 = 'nationality'] = 'French']\")"
   ]
  },
  {
   "cell_type": "markdown",
   "metadata": {},
   "source": [
    "Print out the paintings to check the new collection."
   ]
  },
  {
   "cell_type": "code",
   "execution_count": 16,
   "metadata": {},
   "outputs": [
    {
     "name": "stdout",
     "output_type": "stream",
     "text": [
      "A Sunday Afternoon on the Island of La Grande Jatte by Georges Seurat ( French )\n",
      "Bal du moulin de la Galette by Pierre-Auguste Renoir ( French )\n",
      "Liberty Leading the People by Eugène Delacroix ( French )\n",
      "Impression, Sunrise by Claude Monet ( French )\n",
      "Le Déjeuner sur l'herbe by Édouard Manet ( French )\n",
      "The Sleeping Gypsy by Henri Rousseau ( French )\n",
      "A Bar at the Folies-Bergère by Édouard Manet ( French )\n",
      "The Swing by Jean-Honoré Fragonard ( French )\n",
      "The Raft of the Medusa by Théodore Géricault ( French )\n"
     ]
    }
   ],
   "source": [
    "for painting in new_collection.get():\n",
    "    props = my_collection.get()[painting].get_properties()\n",
    "    first_name = html.unescape(props[('artist', 'name', 'first')])\n",
    "    last_name = html.unescape(props[('artist', 'name', 'last')])    \n",
    "    nationality = html.unescape(props[('artist', 'nationality')])\n",
    "\n",
    "    print(html.unescape(painting), 'by', first_name, last_name, '(', nationality, ')')"
   ]
  },
  {
   "cell_type": "markdown",
   "metadata": {},
   "source": [
    "In fact, it is simply possible in this case to match on *tag1* being nationality.  Thus, we could select Dutch paintings in a new collection:"
   ]
  },
  {
   "cell_type": "code",
   "execution_count": 17,
   "metadata": {},
   "outputs": [],
   "source": [
    "new_collection2 = xc.Collection()\n",
    "new_collection2.update_from_xml(file, xpath = \"[.//property[@tag1 = 'nationality'] = 'Dutch']\")"
   ]
  },
  {
   "cell_type": "markdown",
   "metadata": {},
   "source": [
    "Once again, print out the paintings to check on the new collection."
   ]
  },
  {
   "cell_type": "code",
   "execution_count": 18,
   "metadata": {},
   "outputs": [
    {
     "name": "stdout",
     "output_type": "stream",
     "text": [
      "The Starry Night by Vincent van Gogh ( Dutch )\n",
      "Girl with a Pearl Earring by Johannes Vermeer ( Dutch )\n",
      "The Night Watch by Rembrandt van Rijn ( Dutch )\n",
      "Arnolfini Portrait by Jan van Eyck ( Dutch )\n",
      "Café Terrace at Night by Vincent van Gogh ( Dutch )\n",
      "The Storm on the Sea of Galilee by Rembrandt van Rijn ( Dutch )\n",
      "The Garden of Early Delights by Hieronymus Bosch ( Dutch )\n"
     ]
    }
   ],
   "source": [
    "for painting in new_collection2.get():\n",
    "    props = my_collection.get()[painting].get_properties()\n",
    "    first_name = html.unescape(props[('artist', 'name', 'first')])\n",
    "    last_name = html.unescape(props[('artist', 'name', 'last')])    \n",
    "    nationality = html.unescape(props[('artist', 'nationality')])\n",
    "\n",
    "    print(html.unescape(painting), 'by', first_name, last_name, '(', nationality, ')')"
   ]
  },
  {
   "cell_type": "markdown",
   "metadata": {},
   "source": [
    "The criteria for selecting items by XPath will depend on the particular data in your XML file and the keys and values. Once you have a new collection, you can retrieve items and their properties as illustrated above. You can also write the collection to XML again. We'll first update the Title property in the collection and then write out the XML:"
   ]
  },
  {
   "cell_type": "code",
   "execution_count": 19,
   "metadata": {},
   "outputs": [],
   "source": [
    "new_collection.get_properties()['Title'] = 'Famous French Paintings'\n",
    "new_collection.write_to_xml('my_famous_french_paintings.xml')"
   ]
  },
  {
   "cell_type": "markdown",
   "metadata": {},
   "source": [
    "The new files should be available in the local directory.  If you are running this tutorial from Google Colab, the new xml files should be available under the folder tag to the left of the page."
   ]
  }
 ],
 "metadata": {
  "interpreter": {
   "hash": "fd578b525fe7fcca8a3ea11350d18bcbeb29af20bd1df15f6c5fd2c9cf111483"
  },
  "kernelspec": {
   "display_name": "Python 3",
   "language": "python",
   "name": "python3"
  },
  "language_info": {
   "codemirror_mode": {
    "name": "ipython",
    "version": 3
   },
   "file_extension": ".py",
   "mimetype": "text/x-python",
   "name": "python",
   "nbconvert_exporter": "python",
   "pygments_lexer": "ipython3",
   "version": "3.7.13"
  }
 },
 "nbformat": 4,
 "nbformat_minor": 2
}
